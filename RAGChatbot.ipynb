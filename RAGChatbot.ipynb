{
  "nbformat": 4,
  "nbformat_minor": 0,
  "metadata": {
    "colab": {
      "provenance": [],
      "authorship_tag": "ABX9TyMVf5614ckaHHB8tqyO8VHm",
      "include_colab_link": true
    },
    "kernelspec": {
      "name": "python3",
      "display_name": "Python 3"
    },
    "language_info": {
      "name": "python"
    }
  },
  "cells": [
    {
      "cell_type": "markdown",
      "metadata": {
        "id": "view-in-github",
        "colab_type": "text"
      },
      "source": [
        "<a href=\"https://colab.research.google.com/github/nihald2000/Edgeai/blob/main/RAGChatbot.ipynb\" target=\"_parent\"><img src=\"https://colab.research.google.com/assets/colab-badge.svg\" alt=\"Open In Colab\"/></a>"
      ]
    },
    {
      "cell_type": "markdown",
      "source": [
        "- Conversational RAG: Enable a chatbot experience over an external source of data\n",
        "- Agents: Build a chatbot that can take actions"
      ],
      "metadata": {
        "id": "fjxihmlVmxb0"
      }
    },
    {
      "cell_type": "code",
      "source": [
        "!pip install -q \\\n",
        " langchain_community \\\n",
        " langchain_groq \\\n",
        " langchain_community"
      ],
      "metadata": {
        "id": "l85cfePUnkGN"
      },
      "execution_count": 3,
      "outputs": []
    },
    {
      "cell_type": "code",
      "execution_count": 4,
      "metadata": {
        "id": "TUOe9qsRZYg4",
        "outputId": "4813c850-32d9-4156-f678-ce2c287eead8",
        "colab": {
          "base_uri": "https://localhost:8080/"
        }
      },
      "outputs": [
        {
          "output_type": "stream",
          "name": "stdout",
          "text": [
            " GROQ_API_KEY loaded.\n"
          ]
        }
      ],
      "source": [
        "import os\n",
        "from google.colab import userdata\n",
        "GROQ_API_KEY = userdata.get('GROQ_API_KEY')\n",
        "if GROQ_API_KEY:\n",
        "    os.environ[\"GROQ_API_KEY\"] = GROQ_API_KEY\n",
        "    print(\" GROQ_API_KEY loaded.\")\n",
        "else:\n",
        "    print(\"GROQ_API_KEY not found in Colab Secrets. LangSmith tracing will not work.\")"
      ]
    },
    {
      "cell_type": "code",
      "source": [
        "from langchain_groq import ChatGroq\n",
        "model=ChatGroq(model=\"Gemma2-9b-It\",groq_api_key=GROQ_API_KEY)\n",
        "model"
      ],
      "metadata": {
        "colab": {
          "base_uri": "https://localhost:8080/"
        },
        "id": "RDhoa_OGms4x",
        "outputId": "217d65ca-5479-4afc-f177-5547f77b2752"
      },
      "execution_count": 6,
      "outputs": [
        {
          "output_type": "execute_result",
          "data": {
            "text/plain": [
              "ChatGroq(client=<groq.resources.chat.completions.Completions object at 0x79e19de086d0>, async_client=<groq.resources.chat.completions.AsyncCompletions object at 0x79e19d663cd0>, model_name='Gemma2-9b-It', model_kwargs={}, groq_api_key=SecretStr('**********'))"
            ]
          },
          "metadata": {},
          "execution_count": 6
        }
      ]
    },
    {
      "cell_type": "code",
      "source": [
        "from langchain_core.messages import HumanMessage\n",
        "model.invoke([HumanMessage(content=\"Hi , My name is Nihal\")])"
      ],
      "metadata": {
        "colab": {
          "base_uri": "https://localhost:8080/"
        },
        "id": "82t0vhMcms6b",
        "outputId": "0abfab3f-24af-4d4e-983b-92882c006d37"
      },
      "execution_count": 7,
      "outputs": [
        {
          "output_type": "execute_result",
          "data": {
            "text/plain": [
              "AIMessage(content=\"Hello Nihal, it's nice to meet you! 👋 \\n\\nIs there anything I can help you with today?\\n\", additional_kwargs={}, response_metadata={'token_usage': {'completion_tokens': 28, 'prompt_tokens': 16, 'total_tokens': 44, 'completion_time': 0.050909091, 'prompt_time': 0.001910831, 'queue_time': 0.091344001, 'total_time': 0.052819922}, 'model_name': 'Gemma2-9b-It', 'system_fingerprint': 'fp_10c08bf97d', 'finish_reason': 'stop', 'logprobs': None}, id='run--c30b6250-2536-408c-a26e-4db7866e875e-0', usage_metadata={'input_tokens': 16, 'output_tokens': 28, 'total_tokens': 44})"
            ]
          },
          "metadata": {},
          "execution_count": 7
        }
      ]
    },
    {
      "cell_type": "code",
      "source": [
        "\n",
        "from langchain_core.messages import AIMessage\n",
        "model.invoke(\n",
        "    [\n",
        "        HumanMessage(content=\"Hi , My name is Nihal and I am a Chief AI Engineer\"),\n",
        "        AIMessage(content=\"Hello Nihal! It's nice to meet you. \\n\\nAs a Chief AI Engineer, what kind of projects are you working on these days? \\n\\nI'm always eager to learn more about the exciting work being done in the field of AI.\\n\"),\n",
        "        HumanMessage(content=\"Hey What's my name and what do I do?\")\n",
        "    ]\n",
        ")"
      ],
      "metadata": {
        "colab": {
          "base_uri": "https://localhost:8080/"
        },
        "id": "tjWHP2mNms-K",
        "outputId": "98d5a7a3-8569-4ff0-fa69-fd9d8b455b50"
      },
      "execution_count": 8,
      "outputs": [
        {
          "output_type": "execute_result",
          "data": {
            "text/plain": [
              "AIMessage(content=\"According to our conversation, your name is Nihal and you are a Chief AI Engineer.  😊 \\n\\nIs there anything else you'd like to tell me about yourself or your work? I'm happy to chat! \\n\", additional_kwargs={}, response_metadata={'token_usage': {'completion_tokens': 50, 'prompt_tokens': 99, 'total_tokens': 149, 'completion_time': 0.090909091, 'prompt_time': 0.004274549, 'queue_time': 0.091769801, 'total_time': 0.09518364}, 'model_name': 'Gemma2-9b-It', 'system_fingerprint': 'fp_10c08bf97d', 'finish_reason': 'stop', 'logprobs': None}, id='run--cf689ade-5b8a-47bb-8ade-3be210517c9b-0', usage_metadata={'input_tokens': 99, 'output_tokens': 50, 'total_tokens': 149})"
            ]
          },
          "metadata": {},
          "execution_count": 8
        }
      ]
    },
    {
      "cell_type": "code",
      "source": [
        "from langchain_community.chat_message_histories import ChatMessageHistory\n",
        "from langchain_core.chat_history import BaseChatMessageHistory\n",
        "from langchain_core.runnables.history import RunnableWithMessageHistory\n",
        "\n",
        "store={}\n",
        "\n",
        "def get_session_history(session_id:str)->BaseChatMessageHistory:\n",
        "    if session_id not in store:\n",
        "        store[session_id]=ChatMessageHistory()\n",
        "    return store[session_id]\n",
        "\n",
        "with_message_history=RunnableWithMessageHistory(model,get_session_history)"
      ],
      "metadata": {
        "id": "3YXs9joGmtAk"
      },
      "execution_count": 9,
      "outputs": []
    },
    {
      "cell_type": "code",
      "source": [
        "config={\"configurable\":{\"session_id\":\"chat1\"}}"
      ],
      "metadata": {
        "id": "90TckUoumtCx"
      },
      "execution_count": 10,
      "outputs": []
    },
    {
      "cell_type": "code",
      "source": [
        "response=with_message_history.invoke(\n",
        "    [HumanMessage(content=\"Hi , My name is Nihal\")],\n",
        "    config=config\n",
        ")"
      ],
      "metadata": {
        "id": "uK2BGVUZmtET"
      },
      "execution_count": 11,
      "outputs": []
    },
    {
      "cell_type": "code",
      "source": [
        "response.content"
      ],
      "metadata": {
        "colab": {
          "base_uri": "https://localhost:8080/",
          "height": 53
        },
        "id": "aq1vqFvVmtGa",
        "outputId": "241d272b-7876-4538-e27e-c8f6bedff2b6"
      },
      "execution_count": 12,
      "outputs": [
        {
          "output_type": "execute_result",
          "data": {
            "text/plain": [
              "\"Hello Nihal, it's nice to meet you! 👋 \\n\\nIs there anything I can help you with today? 😊\\n\\n\""
            ],
            "application/vnd.google.colaboratory.intrinsic+json": {
              "type": "string"
            }
          },
          "metadata": {},
          "execution_count": 12
        }
      ]
    },
    {
      "cell_type": "code",
      "source": [
        "with_message_history.invoke(\n",
        "    [HumanMessage(content=\"What's my name?\")],\n",
        "    config=config,\n",
        ")"
      ],
      "metadata": {
        "colab": {
          "base_uri": "https://localhost:8080/"
        },
        "id": "caL2lZSYmtI3",
        "outputId": "3020b92a-0f3b-4171-c063-a1c892b3565d"
      },
      "execution_count": 13,
      "outputs": [
        {
          "output_type": "execute_result",
          "data": {
            "text/plain": [
              "AIMessage(content='Your name is Nihal.  😊 \\n\\nI remembered from our earlier introduction!  \\n\\n\\n\\n\\n', additional_kwargs={}, response_metadata={'token_usage': {'completion_tokens': 22, 'prompt_tokens': 59, 'total_tokens': 81, 'completion_time': 0.04, 'prompt_time': 0.003396224, 'queue_time': 0.09179393799999999, 'total_time': 0.043396224}, 'model_name': 'Gemma2-9b-It', 'system_fingerprint': 'fp_10c08bf97d', 'finish_reason': 'stop', 'logprobs': None}, id='run--68c7d011-a078-4c8d-b29e-b458f2d2d5ea-0', usage_metadata={'input_tokens': 59, 'output_tokens': 22, 'total_tokens': 81})"
            ]
          },
          "metadata": {},
          "execution_count": 13
        }
      ]
    },
    {
      "cell_type": "code",
      "source": [
        "## change the config-->session id\n",
        "config1={\"configurable\":{\"session_id\":\"chat2\"}}\n",
        "response=with_message_history.invoke(\n",
        "    [HumanMessage(content=\"Whats my name\")],\n",
        "    config=config1\n",
        ")\n",
        "response.content"
      ],
      "metadata": {
        "colab": {
          "base_uri": "https://localhost:8080/",
          "height": 53
        },
        "id": "aHHvfuLQmtLT",
        "outputId": "d59f192a-5630-4336-b1c6-de18db55d092"
      },
      "execution_count": 14,
      "outputs": [
        {
          "output_type": "execute_result",
          "data": {
            "text/plain": [
              "\"As an AI, I have no memory of past conversations and do not know your name.\\n\\nIf you'd like to tell me your name, I'd be happy to use it! 😊\\n\""
            ],
            "application/vnd.google.colaboratory.intrinsic+json": {
              "type": "string"
            }
          },
          "metadata": {},
          "execution_count": 14
        }
      ]
    },
    {
      "cell_type": "code",
      "source": [
        "response=with_message_history.invoke(\n",
        "    [HumanMessage(content=\"Hey My name is John\")],\n",
        "    config=config1\n",
        ")\n",
        "response.content"
      ],
      "metadata": {
        "colab": {
          "base_uri": "https://localhost:8080/",
          "height": 35
        },
        "id": "o8y2E64LmtNL",
        "outputId": "0b8e72dd-5e49-47b5-f579-ac3063e9ae5d"
      },
      "execution_count": 15,
      "outputs": [
        {
          "output_type": "execute_result",
          "data": {
            "text/plain": [
              "\"Hello John! It's nice to meet you.  \\n\\nWhat can I do for you today? 😊  \\n\""
            ],
            "application/vnd.google.colaboratory.intrinsic+json": {
              "type": "string"
            }
          },
          "metadata": {},
          "execution_count": 15
        }
      ]
    },
    {
      "cell_type": "code",
      "source": [
        "response=with_message_history.invoke(\n",
        "    [HumanMessage(content=\"Whats my name\")],\n",
        "    config=config1\n",
        ")\n",
        "response.content"
      ],
      "metadata": {
        "colab": {
          "base_uri": "https://localhost:8080/",
          "height": 53
        },
        "id": "WJ2PcwqzmtPe",
        "outputId": "d28189bf-650a-4a1a-df87-bc90f29861b1"
      },
      "execution_count": 16,
      "outputs": [
        {
          "output_type": "execute_result",
          "data": {
            "text/plain": [
              "'Your name is John, remember?  😊 \\n\\nIs there anything else I can help you with?\\n'"
            ],
            "application/vnd.google.colaboratory.intrinsic+json": {
              "type": "string"
            }
          },
          "metadata": {},
          "execution_count": 16
        }
      ]
    },
    {
      "cell_type": "code",
      "source": [
        "from langchain_core.prompts import ChatPromptTemplate,MessagesPlaceholder\n",
        "prompt=ChatPromptTemplate.from_messages(\n",
        "    [\n",
        "        (\"system\",\"You are a helpful assistant.Amnswer all the question to the nest of your ability\"),\n",
        "        MessagesPlaceholder(variable_name=\"messages\")\n",
        "    ]\n",
        ")\n",
        "\n",
        "chain=prompt|model"
      ],
      "metadata": {
        "id": "h-Y5rOigmtRI"
      },
      "execution_count": 17,
      "outputs": []
    },
    {
      "cell_type": "code",
      "source": [
        "chain.invoke({\"messages\":[HumanMessage(content=\"Hi My name is Nihal\")]})"
      ],
      "metadata": {
        "colab": {
          "base_uri": "https://localhost:8080/"
        },
        "id": "g-REHVNSmtUK",
        "outputId": "7f52f681-f4cc-4992-de10-242a2f6e499e"
      },
      "execution_count": 22,
      "outputs": [
        {
          "output_type": "execute_result",
          "data": {
            "text/plain": [
              "AIMessage(content=\"Hi Nihal, it's nice to meet you!  I'm happy to help with any questions you have.  \\n\\nWhat can I do for you today? 😊  \\n\", additional_kwargs={}, response_metadata={'token_usage': {'completion_tokens': 40, 'prompt_tokens': 32, 'total_tokens': 72, 'completion_time': 0.072727273, 'prompt_time': 0.003436464, 'queue_time': 0.091676529, 'total_time': 0.076163737}, 'model_name': 'Gemma2-9b-It', 'system_fingerprint': 'fp_10c08bf97d', 'finish_reason': 'stop', 'logprobs': None}, id='run--b34cf881-c49b-43b6-b2e9-fb34ace43085-0', usage_metadata={'input_tokens': 32, 'output_tokens': 40, 'total_tokens': 72})"
            ]
          },
          "metadata": {},
          "execution_count": 22
        }
      ]
    },
    {
      "cell_type": "code",
      "source": [
        "with_message_history=RunnableWithMessageHistory(chain,get_session_history)"
      ],
      "metadata": {
        "id": "JQFKNS56pipr"
      },
      "execution_count": 23,
      "outputs": []
    },
    {
      "cell_type": "code",
      "source": [
        "config = {\"configurable\": {\"session_id\": \"chat3\"}}\n",
        "response=with_message_history.invoke(\n",
        "    [HumanMessage(content=\"Hi My name is Nihal\")],\n",
        "    config=config\n",
        ")\n",
        "\n",
        "response"
      ],
      "metadata": {
        "colab": {
          "base_uri": "https://localhost:8080/"
        },
        "id": "f_qZO7TUpind",
        "outputId": "4f357e72-e20e-4dc2-ce39-3c3769e7fd3c"
      },
      "execution_count": 24,
      "outputs": [
        {
          "output_type": "execute_result",
          "data": {
            "text/plain": [
              "AIMessage(content=\"Hi Nihal!  \\n\\nIt's great to meet you.  \\n\\nIs there anything I can help you with today?  \\n\\n\", additional_kwargs={}, response_metadata={'token_usage': {'completion_tokens': 31, 'prompt_tokens': 115, 'total_tokens': 146, 'completion_time': 0.056363636, 'prompt_time': 0.005961582, 'queue_time': 0.08481593100000001, 'total_time': 0.062325218}, 'model_name': 'Gemma2-9b-It', 'system_fingerprint': 'fp_10c08bf97d', 'finish_reason': 'stop', 'logprobs': None}, id='run--a458c18c-68d4-4835-b9a2-2a1e37fa8598-0', usage_metadata={'input_tokens': 115, 'output_tokens': 31, 'total_tokens': 146})"
            ]
          },
          "metadata": {},
          "execution_count": 24
        }
      ]
    },
    {
      "cell_type": "code",
      "source": [
        "response = with_message_history.invoke(\n",
        "    [HumanMessage(content=\"What's my name?\")],\n",
        "    config=config,\n",
        ")\n",
        "\n",
        "response.content"
      ],
      "metadata": {
        "colab": {
          "base_uri": "https://localhost:8080/",
          "height": 53
        },
        "id": "lJPyAarWpijh",
        "outputId": "ea015854-fac2-44a7-8db2-610d048ddc4e"
      },
      "execution_count": 25,
      "outputs": [
        {
          "output_type": "execute_result",
          "data": {
            "text/plain": [
              "\"Your name is Nihal.  👋 \\n\\nIt's nice to have you here!  \\n\\nLet me know if you have any questions or tasks for me.\\n\""
            ],
            "application/vnd.google.colaboratory.intrinsic+json": {
              "type": "string"
            }
          },
          "metadata": {},
          "execution_count": 25
        }
      ]
    },
    {
      "cell_type": "code",
      "source": [
        "## Add more complexity\n",
        "\n",
        "prompt = ChatPromptTemplate.from_messages(\n",
        "    [\n",
        "        (\n",
        "            \"system\",\n",
        "            \"You are a helpful assistant. Answer all questions to the best of your ability in {language}.\",\n",
        "        ),\n",
        "        MessagesPlaceholder(variable_name=\"messages\"),\n",
        "    ]\n",
        ")\n",
        "\n",
        "chain = prompt | model"
      ],
      "metadata": {
        "id": "k45ggXscpihx"
      },
      "execution_count": 26,
      "outputs": []
    },
    {
      "cell_type": "code",
      "source": [
        "response=chain.invoke({\"messages\":[HumanMessage(content=\"Hi My name is Nihal\")],\"language\":\"Hindi\"})\n",
        "response.content"
      ],
      "metadata": {
        "colab": {
          "base_uri": "https://localhost:8080/",
          "height": 53
        },
        "id": "FUEdoHZYpidx",
        "outputId": "3c24604b-92c1-4d5a-fef0-c563dcd9273d"
      },
      "execution_count": 27,
      "outputs": [
        {
          "output_type": "execute_result",
          "data": {
            "text/plain": [
              "'नमस्ते कृष्ण! 👋\\n\\nमुझे बहुत खुशी है कि तुम मेरे साथ बात करना चाहते हो।  \\n\\nआप मुझे क्या पूछना चाहेंगे? मैं आपकी हर मदद करने के लिए तैयार हूँ! 😄\\n\\n'"
            ],
            "application/vnd.google.colaboratory.intrinsic+json": {
              "type": "string"
            }
          },
          "metadata": {},
          "execution_count": 27
        }
      ]
    },
    {
      "cell_type": "code",
      "source": [
        "with_message_history=RunnableWithMessageHistory(\n",
        "    chain,\n",
        "    get_session_history,\n",
        "    input_messages_key=\"messages\"\n",
        ")"
      ],
      "metadata": {
        "id": "ytMglEfQpicA"
      },
      "execution_count": 28,
      "outputs": []
    },
    {
      "cell_type": "code",
      "source": [
        "config = {\"configurable\": {\"session_id\": \"chat4\"}}\n",
        "repsonse=with_message_history.invoke(\n",
        "    {'messages': [HumanMessage(content=\"Hi,I am Nihal\")],\"language\":\"Hindi\"},\n",
        "    config=config\n",
        ")\n",
        "repsonse.content"
      ],
      "metadata": {
        "colab": {
          "base_uri": "https://localhost:8080/",
          "height": 53
        },
        "id": "k56894CdpzbG",
        "outputId": "5dcaf569-59d3-46ef-8668-b2c287119dda"
      },
      "execution_count": 39,
      "outputs": [
        {
          "output_type": "execute_result",
          "data": {
            "text/plain": [
              "'नमस्ते निहाल! 😊 \\n\\nमैं आपकी मदद करने के लिए तैयार हूँ। आप मुझसे कोई भी प्रश्न पूछ सकते हैं। \\n'"
            ],
            "application/vnd.google.colaboratory.intrinsic+json": {
              "type": "string"
            }
          },
          "metadata": {},
          "execution_count": 39
        }
      ]
    },
    {
      "cell_type": "code",
      "source": [
        "response = with_message_history.invoke(\n",
        "    {\"messages\": [HumanMessage(content=\"whats my name?\")], \"language\": \"Hindi\"},\n",
        "    config=config,\n",
        ")"
      ],
      "metadata": {
        "id": "IEb6yg8fq7DL"
      },
      "execution_count": 40,
      "outputs": []
    },
    {
      "cell_type": "code",
      "source": [
        "response.content"
      ],
      "metadata": {
        "colab": {
          "base_uri": "https://localhost:8080/",
          "height": 35
        },
        "id": "dMQjFRropzY_",
        "outputId": "9883c0b3-2e8e-48e4-94b5-84f3c36bca51"
      },
      "execution_count": 41,
      "outputs": [
        {
          "output_type": "execute_result",
          "data": {
            "text/plain": [
              "'मुझे नहीं पता आपका नाम क्या है। क्या आप मुझे बता सकते हैं? 😊 \\n'"
            ],
            "application/vnd.google.colaboratory.intrinsic+json": {
              "type": "string"
            }
          },
          "metadata": {},
          "execution_count": 41
        }
      ]
    },
    {
      "cell_type": "code",
      "source": [
        "### Managing the Conversation History\n"
      ],
      "metadata": {
        "id": "YOWwvGURpzVC"
      },
      "execution_count": 42,
      "outputs": []
    },
    {
      "cell_type": "code",
      "source": [
        "from langchain_core.messages import SystemMessage,trim_messages\n",
        "trimmer=trim_messages(\n",
        "    max_tokens=45,\n",
        "    strategy=\"last\",\n",
        "    token_counter=model,\n",
        "    include_system=True,\n",
        "    allow_partial=False,\n",
        "    start_on=\"human\"\n",
        ")\n",
        "messages = [\n",
        "    SystemMessage(content=\"you're a good assistant\"),\n",
        "    HumanMessage(content=\"hi! I'm bob\"),\n",
        "    AIMessage(content=\"hi!\"),\n",
        "    HumanMessage(content=\"I like vanilla ice cream\"),\n",
        "    AIMessage(content=\"nice\"),\n",
        "    HumanMessage(content=\"whats 2 + 2\"),\n",
        "    AIMessage(content=\"4\"),\n",
        "    HumanMessage(content=\"thanks\"),\n",
        "    AIMessage(content=\"no problem!\"),\n",
        "    HumanMessage(content=\"having fun?\"),\n",
        "    AIMessage(content=\"yes!\"),\n",
        "]\n",
        "trimmer.invoke(messages)"
      ],
      "metadata": {
        "colab": {
          "base_uri": "https://localhost:8080/"
        },
        "id": "qHdV8nRfpzTP",
        "outputId": "d95a53a0-b550-483f-c90f-8d5fa49c4bbd"
      },
      "execution_count": 43,
      "outputs": [
        {
          "output_type": "execute_result",
          "data": {
            "text/plain": [
              "[SystemMessage(content=\"you're a good assistant\", additional_kwargs={}, response_metadata={}),\n",
              " HumanMessage(content='I like vanilla ice cream', additional_kwargs={}, response_metadata={}),\n",
              " AIMessage(content='nice', additional_kwargs={}, response_metadata={}),\n",
              " HumanMessage(content='whats 2 + 2', additional_kwargs={}, response_metadata={}),\n",
              " AIMessage(content='4', additional_kwargs={}, response_metadata={}),\n",
              " HumanMessage(content='thanks', additional_kwargs={}, response_metadata={}),\n",
              " AIMessage(content='no problem!', additional_kwargs={}, response_metadata={}),\n",
              " HumanMessage(content='having fun?', additional_kwargs={}, response_metadata={}),\n",
              " AIMessage(content='yes!', additional_kwargs={}, response_metadata={})]"
            ]
          },
          "metadata": {},
          "execution_count": 43
        }
      ]
    },
    {
      "cell_type": "code",
      "source": [
        "from operator import itemgetter\n",
        "\n",
        "from langchain_core.runnables import RunnablePassthrough\n",
        "\n",
        "chain=(\n",
        "    RunnablePassthrough.assign(messages=itemgetter(\"messages\")|trimmer)\n",
        "    | prompt\n",
        "    | model\n",
        "\n",
        ")\n",
        "\n",
        "response=chain.invoke(\n",
        "    {\n",
        "    \"messages\":messages + [HumanMessage(content=\"What ice cream do i like\")],\n",
        "    \"language\":\"English\"\n",
        "    }\n",
        ")\n",
        "response.content"
      ],
      "metadata": {
        "colab": {
          "base_uri": "https://localhost:8080/",
          "height": 70
        },
        "id": "dAe35TkipzO0",
        "outputId": "ab1f8587-fd91-472f-91ea-bf8bace44a9f"
      },
      "execution_count": 44,
      "outputs": [
        {
          "output_type": "execute_result",
          "data": {
            "text/plain": [
              "\"As a helpful but imaginary assistant, I don't have access to your personal preferences like your favorite ice cream flavor. \\n\\nWhat's your favorite ice cream flavor?  🍦 😄  \\n\""
            ],
            "application/vnd.google.colaboratory.intrinsic+json": {
              "type": "string"
            }
          },
          "metadata": {},
          "execution_count": 44
        }
      ]
    },
    {
      "cell_type": "code",
      "source": [
        "response = chain.invoke(\n",
        "    {\n",
        "        \"messages\": messages + [HumanMessage(content=\"what math problem did i ask\")],\n",
        "        \"language\": \"English\",\n",
        "    }\n",
        ")\n",
        "response.content"
      ],
      "metadata": {
        "colab": {
          "base_uri": "https://localhost:8080/",
          "height": 53
        },
        "id": "aG_6w3KvpzNK",
        "outputId": "dfe97559-e15b-48ca-e012-5c3d07dd3df1"
      },
      "execution_count": 45,
      "outputs": [
        {
          "output_type": "execute_result",
          "data": {
            "text/plain": [
              "'You asked what 2 + 2 equals. 😊  \\n\\n\\n\\nLet me know if you want to try another one!\\n'"
            ],
            "application/vnd.google.colaboratory.intrinsic+json": {
              "type": "string"
            }
          },
          "metadata": {},
          "execution_count": 45
        }
      ]
    },
    {
      "cell_type": "code",
      "source": [
        "## Lets wrap this in the MEssage History\n",
        "with_message_history = RunnableWithMessageHistory(\n",
        "    chain,\n",
        "    get_session_history,\n",
        "    input_messages_key=\"messages\",\n",
        ")\n",
        "config={\"configurable\":{\"session_id\":\"chat5\"}}"
      ],
      "metadata": {
        "id": "x5OWFWF4mtWF"
      },
      "execution_count": 46,
      "outputs": []
    },
    {
      "cell_type": "code",
      "source": [
        "response = with_message_history.invoke(\n",
        "    {\n",
        "        \"messages\": messages + [HumanMessage(content=\"whats my name?\")],\n",
        "        \"language\": \"English\",\n",
        "    },\n",
        "    config=config,\n",
        ")\n",
        "\n",
        "response.content"
      ],
      "metadata": {
        "colab": {
          "base_uri": "https://localhost:8080/",
          "height": 53
        },
        "id": "CWznE86drTwo",
        "outputId": "05026c37-f5fa-414a-9fa0-cb4086e8eb67"
      },
      "execution_count": 47,
      "outputs": [
        {
          "output_type": "execute_result",
          "data": {
            "text/plain": [
              "\"As an AI, I have no memory of past conversations and don't know your name.  \\n\\nWould you like to tell me your name? 😊  \\n\""
            ],
            "application/vnd.google.colaboratory.intrinsic+json": {
              "type": "string"
            }
          },
          "metadata": {},
          "execution_count": 47
        }
      ]
    },
    {
      "cell_type": "code",
      "source": [
        "response = with_message_history.invoke(\n",
        "    {\n",
        "        \"messages\": [HumanMessage(content=\"what math problem did i ask?\")],\n",
        "        \"language\": \"English\",\n",
        "    },\n",
        "    config=config,\n",
        ")\n",
        "\n",
        "response.content"
      ],
      "metadata": {
        "colab": {
          "base_uri": "https://localhost:8080/",
          "height": 70
        },
        "id": "N51CFrYjrTum",
        "outputId": "e13d4e56-2200-4016-983f-ec1571d31233"
      },
      "execution_count": 48,
      "outputs": [
        {
          "output_type": "execute_result",
          "data": {
            "text/plain": [
              "\"As a large language model, I have no memory of past conversations. So I don't know what math problem you asked.\\n\\nPlease ask me your math problem and I'll be happy to help! 😊  \\n\\n\""
            ],
            "application/vnd.google.colaboratory.intrinsic+json": {
              "type": "string"
            }
          },
          "metadata": {},
          "execution_count": 48
        }
      ]
    },
    {
      "cell_type": "code",
      "source": [],
      "metadata": {
        "id": "CVleOcSmrTrS"
      },
      "execution_count": 48,
      "outputs": []
    },
    {
      "cell_type": "code",
      "source": [],
      "metadata": {
        "id": "VJEuGCq1rTpX"
      },
      "execution_count": null,
      "outputs": []
    },
    {
      "cell_type": "code",
      "source": [],
      "metadata": {
        "id": "GtugNYmhrTdK"
      },
      "execution_count": null,
      "outputs": []
    }
  ]
}