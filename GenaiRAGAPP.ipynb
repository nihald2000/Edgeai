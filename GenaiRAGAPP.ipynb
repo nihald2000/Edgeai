{
  "nbformat": 4,
  "nbformat_minor": 0,
  "metadata": {
    "colab": {
      "provenance": [],
      "authorship_tag": "ABX9TyPDruPI8OKN6G/v10CbvOzV",
      "include_colab_link": true
    },
    "kernelspec": {
      "name": "python3",
      "display_name": "Python 3"
    },
    "language_info": {
      "name": "python"
    }
  },
  "cells": [
    {
      "cell_type": "markdown",
      "metadata": {
        "id": "view-in-github",
        "colab_type": "text"
      },
      "source": [
        "<a href=\"https://colab.research.google.com/github/nihald2000/Edgeai/blob/main/GenaiRAGAPP.ipynb\" target=\"_parent\"><img src=\"https://colab.research.google.com/assets/colab-badge.svg\" alt=\"Open In Colab\"/></a>"
      ]
    },
    {
      "cell_type": "code",
      "execution_count": 12,
      "metadata": {
        "id": "krovF1e4P977"
      },
      "outputs": [],
      "source": [
        "# !pip install -q langchain langchain-google-genai  bs4 faiss-cpu\n",
        "!pip install -q \\\n",
        "    langchain \\\n",
        "    faiss-cpu \\\n",
        "    langchain-community \\\n",
        "    langchain-google-genai \\\n",
        "    bs4 \\\n",
        "    google-ai-generativelanguage==0.6.15"
      ]
    },
    {
      "cell_type": "code",
      "source": [
        "import os\n",
        "# from dotenv import load_dotenv\n",
        "# load_dotenv()\n",
        "from google.colab import userdata\n",
        "userdata.get('GOOGLE_API_KEY')\n",
        "\n",
        "# os.environ['GOOGLE_API_KEY']=os.getenv(\"GOOGLE_API_KEY\")\n",
        "## Langsmith Tracking\n",
        "# os.environ[\"LANGCHAIN_API_KEY\"]=os.getenv(\"LANGCHAIN_API_KEY\")\n",
        "# os.environ[\"LANGCHAIN_TRACING_V2\"]=\"true\"\n",
        "# os.environ[\"LANGCHAIN_PROJECT\"]=os.getenv(\"LANGCHAIN_PROJECT\")\n",
        "\n",
        "\n",
        "# LangSmith Configuration\n",
        "os.environ[\"LANGCHAIN_TRACING_V2\"] = \"true\"\n",
        "LANGCHAIN_API_KEY = userdata.get('LANGCHAIN_API_KEY')\n",
        "if LANGCHAIN_API_KEY:\n",
        "    os.environ[\"LANGCHAIN_API_KEY\"] = LANGCHAIN_API_KEY\n",
        "    print(\" LangSmith API Key loaded.\")\n",
        "else:\n",
        "    print(\"LANGCHAIN_API_KEY not found in Colab Secrets. LangSmith tracing will not work.\")\n",
        "\n",
        "# You can customize your LangSmith project name here\n",
        "LANGCHAIN_PROJECT_NAME = \"My GENAI RAG APP\"\n",
        "os.environ[\"LANGCHAIN_PROJECT\"] = LANGCHAIN_PROJECT_NAME\n",
        "print(f\" LangSmith Project set to: {LANGCHAIN_PROJECT_NAME}\")\n",
        "\n",
        "# Google Gemini Configuration\n",
        "GOOGLE_API_KEY = userdata.get('GOOGLE_API_KEY')\n",
        "if GOOGLE_API_KEY:\n",
        "    os.environ[\"GOOGLE_API_KEY\"] = GOOGLE_API_KEY\n",
        "    print(\"Google (Gemini) API Key loaded.\")\n",
        "else:\n",
        "    print(\" GOOGLE_API_KEY not found in Colab Secrets. Gemini calls will fail if attempted.\")\n"
      ],
      "metadata": {
        "colab": {
          "base_uri": "https://localhost:8080/"
        },
        "id": "jRDMDkxvT9o1",
        "outputId": "1969c327-f835-4f7c-db07-cf507254d771"
      },
      "execution_count": 13,
      "outputs": [
        {
          "output_type": "stream",
          "name": "stdout",
          "text": [
            " LangSmith API Key loaded.\n",
            " LangSmith Project set to: My GENAI RAG APP\n",
            "Google (Gemini) API Key loaded.\n"
          ]
        }
      ]
    },
    {
      "cell_type": "code",
      "source": [],
      "metadata": {
        "id": "xn832GrRT7TD"
      },
      "execution_count": null,
      "outputs": []
    },
    {
      "cell_type": "code",
      "source": [
        "#Data Inserstion\n",
        "from langchain.document_loaders import WebBaseLoader\n",
        "\n",
        "loader=WebBaseLoader(\"https://medium.com/@nihald2000/a-comprehensive-guide-to-formatting-a-64gb-usb-drive-to-fat32-af5fa92c9c4b\")\n",
        "loader\n"
      ],
      "metadata": {
        "colab": {
          "base_uri": "https://localhost:8080/"
        },
        "id": "E0VehYrlSPeF",
        "outputId": "70ce931c-cc6a-4b56-96db-9ba357966fcb"
      },
      "execution_count": 22,
      "outputs": [
        {
          "output_type": "execute_result",
          "data": {
            "text/plain": [
              "<langchain_community.document_loaders.web_base.WebBaseLoader at 0x7e2c0e13dc90>"
            ]
          },
          "metadata": {},
          "execution_count": 22
        }
      ]
    },
    {
      "cell_type": "code",
      "source": [
        "docs = loader.load()\n",
        "docs"
      ],
      "metadata": {
        "colab": {
          "base_uri": "https://localhost:8080/"
        },
        "id": "tT2psmA0TRXO",
        "outputId": "ec6f42f0-72f9-4565-a74a-1cc97914524a"
      },
      "execution_count": 23,
      "outputs": [
        {
          "output_type": "execute_result",
          "data": {
            "text/plain": [
              "[Document(metadata={'source': 'https://medium.com/@nihald2000/a-comprehensive-guide-to-formatting-a-64gb-usb-drive-to-fat32-af5fa92c9c4b', 'title': 'A Comprehensive Guide to Formatting a 64GB USB Drive to FAT32 | by Nihal Degaon | Medium', 'description': 'Formatting a USB drive to FAT32 is a common requirement for compatibility with various devices, such as cameras, gaming consoles, or legacy systems. However, Windows’ built-in tools limit FAT32…', 'language': 'en'}, page_content='A Comprehensive Guide to Formatting a 64GB USB Drive to FAT32 | by Nihal Degaon | MediumSitemapOpen in appSign upSign inMedium LogoWriteSign upSign inA Comprehensive Guide to Formatting a 64GB USB Drive to FAT32Nihal DegaonFollow3 min read·Mar 19, 2025--ListenShareFormatted to FAT32Formatting a USB drive to FAT32 is a common requirement for compatibility with various devices, such as cameras, gaming consoles, or legacy systems. However, Windows’ built-in tools limit FAT32 formatting to drives of 32GB or less, and corporate environments may impose additional restrictions on USB access. In this article, we’ll cover how to format a 64GB USB drive to FAT32 on both Windows and Linux (Ubuntu), troubleshoot detection issues, and discuss workarounds when USB storage is blocked by IT policies.Understanding the FAT32 LimitationFAT32 is widely supported and useful when you need maximum compatibility. However, Windows’ native tools (such as Disk Management or DiskPart) won’t let you format drives larger than 32GB to FAT32 — even though the FAT32 file system itself supports much larger volumes (up to 2TB). This limitation means you must use alternative methods if you have a 64GB drive.Formatting on WindowsMethod 1: Using Third-Party Tools (Recommended)Third-party utilities bypass Windows’ 32GB restriction and offer a quick solution:Rufus:Download Rufus from rufus.ie.Insert your USB drive.Open Rufus and select your USB under the “Device” field.Under “File System,” choose FAT32.Click Start and confirm the formatting process.FAT32 Format Tool:Download the utility from ridgecrop.co.uk.Run the executable, select your USB drive, and click Start.These tools are particularly useful for drives larger than 32GB because they circumvent Windows’ limitations.Method 2: Using PowerShellIf you prefer not to install extra software, you can use PowerShell. Note that formatting a large drive this way may be considerably slower:Open PowerShell as Administrator.Execute the following command (replacing X: with your USB drive letter):format /FS:FAT32 X:Be prepared — this method can take over an hour on a 64GB drive due to the intensive nature of the formatting process.Formatting on Linux (Ubuntu)Linux offers robust command-line tools that make formatting large drives quick and straightforward. Here’s how you can do it via a remote session (for example, through MobaXterm):Step 1: Verify USB DetectionCheck with lsusb:lsusbCheck with lsblk: Next, run:lsblkStep 2: Format the USB Drive to FAT32If the drive is detected (as in the example above), you can proceed:Unmount the Partition (if mounted): Since your output indicates that /dev/sdb1 is not mounted, you can skip this step. If it were mounted, you would use:sudo umount /dev/sdb1Run the Formatting Command:sudo mkfs.fat -F 32 /dev/sdb1Verify the Format:lsblk -fMount the USB (Optional)sudo mkdir -p /mnt/usbsudo mount /dev/sdb1 /mnt/usbAlternatively, you can use a graphical tool like GParted if you prefer a GUI:sudo apt install gparted -yRun it with:sudo gpartedDealing with Corporate USB RestrictionsIn some corporate environments, USB mass storage may be disabled by IT policiesAsk IT for Temporary Access: If USB access is essential, consider requesting temporary permission or an exception from your IT department.ConclusionFormatting a 64GB USB drive to FAT32 can be straightforward — especially on Linux, where commands like mkfs.fat make the process quick and efficient. On Windows, third-party tools such as Rufus or FAT32 Format are your best bet to overcome the native 32GB limit. If you are in a corporate environment with restricted USB access, consider network-based transfers or request the necessary permissions.Usb Drive RecoveryUsb To Fat32FormattingWindowsLinux----FollowWritten by Nihal Degaon0 followers·1 followingFollowNo responses yetHelpStatusAboutCareersPressBlogPrivacyRulesTermsText to speech\\n\\n\\n\\n\\n\\n\\n\\n\\n\\n\\n\\n\\n\\n\\n\\n\\n\\n\\n\\n\\n\\n\\n\\n\\n\\n\\n\\n\\n\\n\\n\\n\\n\\n\\n')]"
            ]
          },
          "metadata": {},
          "execution_count": 23
        }
      ]
    },
    {
      "cell_type": "code",
      "source": [
        "#Dividing data into smaller chunks\n",
        "from langchain_text_splitters import RecursiveCharacterTextSplitter\n",
        "text_splitter = RecursiveCharacterTextSplitter(chunk_size=800,chunk_overlap=150)\n",
        "documents = text_splitter.split_documents(docs)\n",
        "documents"
      ],
      "metadata": {
        "colab": {
          "base_uri": "https://localhost:8080/"
        },
        "id": "LSB_R2o5We86",
        "outputId": "e0b39565-80b8-4911-b338-e2822bfeed96"
      },
      "execution_count": 25,
      "outputs": [
        {
          "output_type": "execute_result",
          "data": {
            "text/plain": [
              "[Document(metadata={'source': 'https://medium.com/@nihald2000/a-comprehensive-guide-to-formatting-a-64gb-usb-drive-to-fat32-af5fa92c9c4b', 'title': 'A Comprehensive Guide to Formatting a 64GB USB Drive to FAT32 | by Nihal Degaon | Medium', 'description': 'Formatting a USB drive to FAT32 is a common requirement for compatibility with various devices, such as cameras, gaming consoles, or legacy systems. However, Windows’ built-in tools limit FAT32…', 'language': 'en'}, page_content='A Comprehensive Guide to Formatting a 64GB USB Drive to FAT32 | by Nihal Degaon | MediumSitemapOpen in appSign upSign inMedium LogoWriteSign upSign inA Comprehensive Guide to Formatting a 64GB USB Drive to FAT32Nihal DegaonFollow3 min read·Mar 19, 2025--ListenShareFormatted to FAT32Formatting a USB drive to FAT32 is a common requirement for compatibility with various devices, such as cameras, gaming consoles, or legacy systems. However, Windows’ built-in tools limit FAT32 formatting to drives of 32GB or less, and corporate environments may impose additional restrictions on USB access. In this article, we’ll cover how to format a 64GB USB drive to FAT32 on both Windows and Linux (Ubuntu), troubleshoot detection issues, and discuss workarounds when USB storage is blocked by IT'),\n",
              " Document(metadata={'source': 'https://medium.com/@nihald2000/a-comprehensive-guide-to-formatting-a-64gb-usb-drive-to-fat32-af5fa92c9c4b', 'title': 'A Comprehensive Guide to Formatting a 64GB USB Drive to FAT32 | by Nihal Degaon | Medium', 'description': 'Formatting a USB drive to FAT32 is a common requirement for compatibility with various devices, such as cameras, gaming consoles, or legacy systems. However, Windows’ built-in tools limit FAT32…', 'language': 'en'}, page_content='64GB USB drive to FAT32 on both Windows and Linux (Ubuntu), troubleshoot detection issues, and discuss workarounds when USB storage is blocked by IT policies.Understanding the FAT32 LimitationFAT32 is widely supported and useful when you need maximum compatibility. However, Windows’ native tools (such as Disk Management or DiskPart) won’t let you format drives larger than 32GB to FAT32 — even though the FAT32 file system itself supports much larger volumes (up to 2TB). This limitation means you must use alternative methods if you have a 64GB drive.Formatting on WindowsMethod 1: Using Third-Party Tools (Recommended)Third-party utilities bypass Windows’ 32GB restriction and offer a quick solution:Rufus:Download Rufus from rufus.ie.Insert your USB drive.Open Rufus and select your USB under'),\n",
              " Document(metadata={'source': 'https://medium.com/@nihald2000/a-comprehensive-guide-to-formatting-a-64gb-usb-drive-to-fat32-af5fa92c9c4b', 'title': 'A Comprehensive Guide to Formatting a 64GB USB Drive to FAT32 | by Nihal Degaon | Medium', 'description': 'Formatting a USB drive to FAT32 is a common requirement for compatibility with various devices, such as cameras, gaming consoles, or legacy systems. However, Windows’ built-in tools limit FAT32…', 'language': 'en'}, page_content='Windows’ 32GB restriction and offer a quick solution:Rufus:Download Rufus from rufus.ie.Insert your USB drive.Open Rufus and select your USB under the “Device” field.Under “File System,” choose FAT32.Click Start and confirm the formatting process.FAT32 Format Tool:Download the utility from ridgecrop.co.uk.Run the executable, select your USB drive, and click Start.These tools are particularly useful for drives larger than 32GB because they circumvent Windows’ limitations.Method 2: Using PowerShellIf you prefer not to install extra software, you can use PowerShell. Note that formatting a large drive this way may be considerably slower:Open PowerShell as Administrator.Execute the following command (replacing X: with your USB drive letter):format /FS:FAT32 X:Be prepared — this method can take'),\n",
              " Document(metadata={'source': 'https://medium.com/@nihald2000/a-comprehensive-guide-to-formatting-a-64gb-usb-drive-to-fat32-af5fa92c9c4b', 'title': 'A Comprehensive Guide to Formatting a 64GB USB Drive to FAT32 | by Nihal Degaon | Medium', 'description': 'Formatting a USB drive to FAT32 is a common requirement for compatibility with various devices, such as cameras, gaming consoles, or legacy systems. However, Windows’ built-in tools limit FAT32…', 'language': 'en'}, page_content='as Administrator.Execute the following command (replacing X: with your USB drive letter):format /FS:FAT32 X:Be prepared — this method can take over an hour on a 64GB drive due to the intensive nature of the formatting process.Formatting on Linux (Ubuntu)Linux offers robust command-line tools that make formatting large drives quick and straightforward. Here’s how you can do it via a remote session (for example, through MobaXterm):Step 1: Verify USB DetectionCheck with lsusb:lsusbCheck with lsblk: Next, run:lsblkStep 2: Format the USB Drive to FAT32If the drive is detected (as in the example above), you can proceed:Unmount the Partition (if mounted): Since your output indicates that /dev/sdb1 is not mounted, you can skip this step. If it were mounted, you would use:sudo umount /dev/sdb1Run'),\n",
              " Document(metadata={'source': 'https://medium.com/@nihald2000/a-comprehensive-guide-to-formatting-a-64gb-usb-drive-to-fat32-af5fa92c9c4b', 'title': 'A Comprehensive Guide to Formatting a 64GB USB Drive to FAT32 | by Nihal Degaon | Medium', 'description': 'Formatting a USB drive to FAT32 is a common requirement for compatibility with various devices, such as cameras, gaming consoles, or legacy systems. However, Windows’ built-in tools limit FAT32…', 'language': 'en'}, page_content='Since your output indicates that /dev/sdb1 is not mounted, you can skip this step. If it were mounted, you would use:sudo umount /dev/sdb1Run the Formatting Command:sudo mkfs.fat -F 32 /dev/sdb1Verify the Format:lsblk -fMount the USB (Optional)sudo mkdir -p /mnt/usbsudo mount /dev/sdb1 /mnt/usbAlternatively, you can use a graphical tool like GParted if you prefer a GUI:sudo apt install gparted -yRun it with:sudo gpartedDealing with Corporate USB RestrictionsIn some corporate environments, USB mass storage may be disabled by IT policiesAsk IT for Temporary Access: If USB access is essential, consider requesting temporary permission or an exception from your IT department.ConclusionFormatting a 64GB USB drive to FAT32 can be straightforward — especially on Linux, where commands like'),\n",
              " Document(metadata={'source': 'https://medium.com/@nihald2000/a-comprehensive-guide-to-formatting-a-64gb-usb-drive-to-fat32-af5fa92c9c4b', 'title': 'A Comprehensive Guide to Formatting a 64GB USB Drive to FAT32 | by Nihal Degaon | Medium', 'description': 'Formatting a USB drive to FAT32 is a common requirement for compatibility with various devices, such as cameras, gaming consoles, or legacy systems. However, Windows’ built-in tools limit FAT32…', 'language': 'en'}, page_content='an exception from your IT department.ConclusionFormatting a 64GB USB drive to FAT32 can be straightforward — especially on Linux, where commands like mkfs.fat make the process quick and efficient. On Windows, third-party tools such as Rufus or FAT32 Format are your best bet to overcome the native 32GB limit. If you are in a corporate environment with restricted USB access, consider network-based transfers or request the necessary permissions.Usb Drive RecoveryUsb To Fat32FormattingWindowsLinux----FollowWritten by Nihal Degaon0 followers·1 followingFollowNo responses yetHelpStatusAboutCareersPressBlogPrivacyRulesTermsText to speech')]"
            ]
          },
          "metadata": {},
          "execution_count": 25
        }
      ]
    },
    {
      "cell_type": "code",
      "source": [
        "from langchain_google_genai import GoogleGenerativeAIEmbeddings\n",
        "embeddings = GoogleGenerativeAIEmbeddings(model=\"models/embedding-001\")\n"
      ],
      "metadata": {
        "id": "k9M63tlBWe-e"
      },
      "execution_count": 28,
      "outputs": []
    },
    {
      "cell_type": "code",
      "source": [
        "from langchain_community.vectorstores import FAISS\n",
        "vectorstoresdb = FAISS.from_documents(documents,embeddings)\n",
        "vectorstoresdb"
      ],
      "metadata": {
        "colab": {
          "base_uri": "https://localhost:8080/"
        },
        "id": "fzAvpCtnWfCM",
        "outputId": "2345a2a1-c6e1-42e7-f540-dbda3b55bc44"
      },
      "execution_count": 32,
      "outputs": [
        {
          "output_type": "execute_result",
          "data": {
            "text/plain": [
              "<langchain_community.vectorstores.faiss.FAISS at 0x7e2c0838f150>"
            ]
          },
          "metadata": {},
          "execution_count": 32
        }
      ]
    },
    {
      "cell_type": "code",
      "source": [
        "## Query From a vector db\n",
        "query=\"Third-party utilities bypass Windows’ 32GB restriction\"\n",
        "result=vectorstoresdb.similarity_search(query)\n",
        "result[0].page_content"
      ],
      "metadata": {
        "colab": {
          "base_uri": "https://localhost:8080/",
          "height": 105
        },
        "id": "LV6tOJnRWfD4",
        "outputId": "a0e3c464-b59c-4010-d739-b3fd84556bf6"
      },
      "execution_count": 33,
      "outputs": [
        {
          "output_type": "execute_result",
          "data": {
            "text/plain": [
              "'Windows’ 32GB restriction and offer a quick solution:Rufus:Download Rufus from rufus.ie.Insert your USB drive.Open Rufus and select your USB under the “Device” field.Under “File System,” choose FAT32.Click Start and confirm the formatting process.FAT32 Format Tool:Download the utility from ridgecrop.co.uk.Run the executable, select your USB drive, and click Start.These tools are particularly useful for drives larger than 32GB because they circumvent Windows’ limitations.Method 2: Using PowerShellIf you prefer not to install extra software, you can use PowerShell. Note that formatting a large drive this way may be considerably slower:Open PowerShell as Administrator.Execute the following command (replacing X: with your USB drive letter):format /FS:FAT32 X:Be prepared — this method can take'"
            ],
            "application/vnd.google.colaboratory.intrinsic+json": {
              "type": "string"
            }
          },
          "metadata": {},
          "execution_count": 33
        }
      ]
    },
    {
      "cell_type": "code",
      "source": [
        "from langchain_google_genai import ChatGoogleGenerativeAI\n",
        "llm=ChatGoogleGenerativeAI(model=\"gemini-2.5-flash-preview-04-17\")"
      ],
      "metadata": {
        "id": "XQGPrYPcWfG3"
      },
      "execution_count": 34,
      "outputs": []
    },
    {
      "cell_type": "code",
      "source": [
        "#Retrival chain\n",
        "from langchain.chains.combine_documents import create_stuff_documents_chain\n",
        "from langchain_core.prompts import ChatPromptTemplate\n",
        "\n",
        "prompt=ChatPromptTemplate.from_template(\n",
        "    \"\"\"\n",
        "Answer the following question based only on the provided context:\n",
        "<context>\n",
        "{context}\n",
        "</context>\n",
        "\n",
        "\n",
        "\"\"\"\n",
        ")\n",
        "\n",
        "document_chain=create_stuff_documents_chain(llm,prompt)\n",
        "document_chain"
      ],
      "metadata": {
        "colab": {
          "base_uri": "https://localhost:8080/"
        },
        "id": "tG-xH8uuWfIb",
        "outputId": "8d2df0b5-c926-46ec-fdb6-3dd8246c6aa7"
      },
      "execution_count": 35,
      "outputs": [
        {
          "output_type": "execute_result",
          "data": {
            "text/plain": [
              "RunnableBinding(bound=RunnableBinding(bound=RunnableAssign(mapper={\n",
              "  context: RunnableLambda(format_docs)\n",
              "}), kwargs={}, config={'run_name': 'format_inputs'}, config_factories=[])\n",
              "| ChatPromptTemplate(input_variables=['context'], input_types={}, partial_variables={}, messages=[HumanMessagePromptTemplate(prompt=PromptTemplate(input_variables=['context'], input_types={}, partial_variables={}, template='\\nAnswer the following question based only on the provided context:\\n<context>\\n{context}\\n</context>\\n\\n\\n'), additional_kwargs={})])\n",
              "| ChatGoogleGenerativeAI(model='models/gemini-2.5-flash-preview-04-17', google_api_key=SecretStr('**********'), client=<google.ai.generativelanguage_v1beta.services.generative_service.client.GenerativeServiceClient object at 0x7e2c08552490>, default_metadata=())\n",
              "| StrOutputParser(), kwargs={}, config={'run_name': 'stuff_documents_chain'}, config_factories=[])"
            ]
          },
          "metadata": {},
          "execution_count": 35
        }
      ]
    },
    {
      "cell_type": "code",
      "source": [
        "from langchain_core.documents import Document\n",
        "document_chain.invoke({\n",
        "    \"input\":\"LangSmith has two usage limits: total traces and extended\",\n",
        "    \"context\":[Document(page_content=\"LangSmith has two usage limits: total traces and extended traces. These correspond to the two metrics we've been tracking on our usage graph. \")]\n",
        "})"
      ],
      "metadata": {
        "colab": {
          "base_uri": "https://localhost:8080/",
          "height": 53
        },
        "id": "g1tDfGeGWfMj",
        "outputId": "e3b0f8f3-47a5-444c-a724-7cada49f6295"
      },
      "execution_count": 36,
      "outputs": [
        {
          "output_type": "execute_result",
          "data": {
            "text/plain": [
              "'Based on the provided context, LangSmith has two usage limits:\\n1.  Total traces\\n2.  Extended traces\\n\\nThese correspond to the two metrics tracked on their usage graph.'"
            ],
            "application/vnd.google.colaboratory.intrinsic+json": {
              "type": "string"
            }
          },
          "metadata": {},
          "execution_count": 36
        }
      ]
    },
    {
      "cell_type": "code",
      "source": [
        "vectorstoresdb"
      ],
      "metadata": {
        "colab": {
          "base_uri": "https://localhost:8080/"
        },
        "id": "67P86sd_cbq4",
        "outputId": "7191a134-0dfe-43b8-db00-6db9a32f9769"
      },
      "execution_count": 37,
      "outputs": [
        {
          "output_type": "execute_result",
          "data": {
            "text/plain": [
              "<langchain_community.vectorstores.faiss.FAISS at 0x7e2c0838f150>"
            ]
          },
          "metadata": {},
          "execution_count": 37
        }
      ]
    },
    {
      "cell_type": "code",
      "source": [
        "retriever=vectorstoresdb.as_retriever()\n",
        "from langchain.chains import create_retrieval_chain\n",
        "retrieval_chain=create_retrieval_chain(retriever,document_chain)\n",
        "retrieval_chain\n"
      ],
      "metadata": {
        "colab": {
          "base_uri": "https://localhost:8080/"
        },
        "id": "qAjEO1CmcglC",
        "outputId": "2498411e-7cf9-4d82-e96a-219e617a2cdd"
      },
      "execution_count": 39,
      "outputs": [
        {
          "output_type": "execute_result",
          "data": {
            "text/plain": [
              "RunnableBinding(bound=RunnableAssign(mapper={\n",
              "  context: RunnableBinding(bound=RunnableLambda(lambda x: x['input'])\n",
              "           | VectorStoreRetriever(tags=['FAISS', 'GoogleGenerativeAIEmbeddings'], vectorstore=<langchain_community.vectorstores.faiss.FAISS object at 0x7e2c0838f150>, search_kwargs={}), kwargs={}, config={'run_name': 'retrieve_documents'}, config_factories=[])\n",
              "})\n",
              "| RunnableAssign(mapper={\n",
              "    answer: RunnableBinding(bound=RunnableBinding(bound=RunnableAssign(mapper={\n",
              "              context: RunnableLambda(format_docs)\n",
              "            }), kwargs={}, config={'run_name': 'format_inputs'}, config_factories=[])\n",
              "            | ChatPromptTemplate(input_variables=['context'], input_types={}, partial_variables={}, messages=[HumanMessagePromptTemplate(prompt=PromptTemplate(input_variables=['context'], input_types={}, partial_variables={}, template='\\nAnswer the following question based only on the provided context:\\n<context>\\n{context}\\n</context>\\n\\n\\n'), additional_kwargs={})])\n",
              "            | ChatGoogleGenerativeAI(model='models/gemini-2.5-flash-preview-04-17', google_api_key=SecretStr('**********'), client=<google.ai.generativelanguage_v1beta.services.generative_service.client.GenerativeServiceClient object at 0x7e2c08552490>, default_metadata=())\n",
              "            | StrOutputParser(), kwargs={}, config={'run_name': 'stuff_documents_chain'}, config_factories=[])\n",
              "  }), kwargs={}, config={'run_name': 'retrieval_chain'}, config_factories=[])"
            ]
          },
          "metadata": {},
          "execution_count": 39
        }
      ]
    },
    {
      "cell_type": "code",
      "source": [
        "## Get the response form the LLM\n",
        "response=retrieval_chain.invoke({\"input\":\"Linux offers robust command-line tools\"})\n",
        "response['answer']"
      ],
      "metadata": {
        "colab": {
          "base_uri": "https://localhost:8080/",
          "height": 35
        },
        "id": "SAT2a2DGck2z",
        "outputId": "bd178313-eff6-46ee-ae56-e589e87852b1"
      },
      "execution_count": 40,
      "outputs": [
        {
          "output_type": "execute_result",
          "data": {
            "text/plain": [
              "'Based on the provided context, the article was published on **Mar 19, 2025**.'"
            ],
            "application/vnd.google.colaboratory.intrinsic+json": {
              "type": "string"
            }
          },
          "metadata": {},
          "execution_count": 40
        }
      ]
    },
    {
      "cell_type": "code",
      "source": [
        "response"
      ],
      "metadata": {
        "colab": {
          "base_uri": "https://localhost:8080/"
        },
        "id": "vy_iO3vMcych",
        "outputId": "071bfa6f-2288-4911-b38f-ab1129667875"
      },
      "execution_count": 41,
      "outputs": [
        {
          "output_type": "execute_result",
          "data": {
            "text/plain": [
              "{'input': 'Linux offers robust command-line tools',\n",
              " 'context': [Document(id='d496a183-3348-47a4-b916-14e20cae15f6', metadata={'source': 'https://medium.com/@nihald2000/a-comprehensive-guide-to-formatting-a-64gb-usb-drive-to-fat32-af5fa92c9c4b', 'title': 'A Comprehensive Guide to Formatting a 64GB USB Drive to FAT32 | by Nihal Degaon | Medium', 'description': 'Formatting a USB drive to FAT32 is a common requirement for compatibility with various devices, such as cameras, gaming consoles, or legacy systems. However, Windows’ built-in tools limit FAT32…', 'language': 'en'}, page_content='Since your output indicates that /dev/sdb1 is not mounted, you can skip this step. If it were mounted, you would use:sudo umount /dev/sdb1Run the Formatting Command:sudo mkfs.fat -F 32 /dev/sdb1Verify the Format:lsblk -fMount the USB (Optional)sudo mkdir -p /mnt/usbsudo mount /dev/sdb1 /mnt/usbAlternatively, you can use a graphical tool like GParted if you prefer a GUI:sudo apt install gparted -yRun it with:sudo gpartedDealing with Corporate USB RestrictionsIn some corporate environments, USB mass storage may be disabled by IT policiesAsk IT for Temporary Access: If USB access is essential, consider requesting temporary permission or an exception from your IT department.ConclusionFormatting a 64GB USB drive to FAT32 can be straightforward — especially on Linux, where commands like'),\n",
              "  Document(id='266a34d7-2b18-4d2f-9e05-5db26193a77b', metadata={'source': 'https://medium.com/@nihald2000/a-comprehensive-guide-to-formatting-a-64gb-usb-drive-to-fat32-af5fa92c9c4b', 'title': 'A Comprehensive Guide to Formatting a 64GB USB Drive to FAT32 | by Nihal Degaon | Medium', 'description': 'Formatting a USB drive to FAT32 is a common requirement for compatibility with various devices, such as cameras, gaming consoles, or legacy systems. However, Windows’ built-in tools limit FAT32…', 'language': 'en'}, page_content='as Administrator.Execute the following command (replacing X: with your USB drive letter):format /FS:FAT32 X:Be prepared — this method can take over an hour on a 64GB drive due to the intensive nature of the formatting process.Formatting on Linux (Ubuntu)Linux offers robust command-line tools that make formatting large drives quick and straightforward. Here’s how you can do it via a remote session (for example, through MobaXterm):Step 1: Verify USB DetectionCheck with lsusb:lsusbCheck with lsblk: Next, run:lsblkStep 2: Format the USB Drive to FAT32If the drive is detected (as in the example above), you can proceed:Unmount the Partition (if mounted): Since your output indicates that /dev/sdb1 is not mounted, you can skip this step. If it were mounted, you would use:sudo umount /dev/sdb1Run'),\n",
              "  Document(id='afb1e19d-6310-4860-b950-31dd181bf2ef', metadata={'source': 'https://medium.com/@nihald2000/a-comprehensive-guide-to-formatting-a-64gb-usb-drive-to-fat32-af5fa92c9c4b', 'title': 'A Comprehensive Guide to Formatting a 64GB USB Drive to FAT32 | by Nihal Degaon | Medium', 'description': 'Formatting a USB drive to FAT32 is a common requirement for compatibility with various devices, such as cameras, gaming consoles, or legacy systems. However, Windows’ built-in tools limit FAT32…', 'language': 'en'}, page_content='64GB USB drive to FAT32 on both Windows and Linux (Ubuntu), troubleshoot detection issues, and discuss workarounds when USB storage is blocked by IT policies.Understanding the FAT32 LimitationFAT32 is widely supported and useful when you need maximum compatibility. However, Windows’ native tools (such as Disk Management or DiskPart) won’t let you format drives larger than 32GB to FAT32 — even though the FAT32 file system itself supports much larger volumes (up to 2TB). This limitation means you must use alternative methods if you have a 64GB drive.Formatting on WindowsMethod 1: Using Third-Party Tools (Recommended)Third-party utilities bypass Windows’ 32GB restriction and offer a quick solution:Rufus:Download Rufus from rufus.ie.Insert your USB drive.Open Rufus and select your USB under'),\n",
              "  Document(id='c80099bf-a453-481c-aa21-b4a521e019bf', metadata={'source': 'https://medium.com/@nihald2000/a-comprehensive-guide-to-formatting-a-64gb-usb-drive-to-fat32-af5fa92c9c4b', 'title': 'A Comprehensive Guide to Formatting a 64GB USB Drive to FAT32 | by Nihal Degaon | Medium', 'description': 'Formatting a USB drive to FAT32 is a common requirement for compatibility with various devices, such as cameras, gaming consoles, or legacy systems. However, Windows’ built-in tools limit FAT32…', 'language': 'en'}, page_content='A Comprehensive Guide to Formatting a 64GB USB Drive to FAT32 | by Nihal Degaon | MediumSitemapOpen in appSign upSign inMedium LogoWriteSign upSign inA Comprehensive Guide to Formatting a 64GB USB Drive to FAT32Nihal DegaonFollow3 min read·Mar 19, 2025--ListenShareFormatted to FAT32Formatting a USB drive to FAT32 is a common requirement for compatibility with various devices, such as cameras, gaming consoles, or legacy systems. However, Windows’ built-in tools limit FAT32 formatting to drives of 32GB or less, and corporate environments may impose additional restrictions on USB access. In this article, we’ll cover how to format a 64GB USB drive to FAT32 on both Windows and Linux (Ubuntu), troubleshoot detection issues, and discuss workarounds when USB storage is blocked by IT')],\n",
              " 'answer': 'Based on the provided context, the article was published on **Mar 19, 2025**.'}"
            ]
          },
          "metadata": {},
          "execution_count": 41
        }
      ]
    },
    {
      "cell_type": "code",
      "source": [
        "response['context']"
      ],
      "metadata": {
        "colab": {
          "base_uri": "https://localhost:8080/"
        },
        "id": "bWq7Bbigc2WP",
        "outputId": "1d1ef5cc-2176-4303-ac3f-21c2b3a01dae"
      },
      "execution_count": 42,
      "outputs": [
        {
          "output_type": "execute_result",
          "data": {
            "text/plain": [
              "[Document(id='d496a183-3348-47a4-b916-14e20cae15f6', metadata={'source': 'https://medium.com/@nihald2000/a-comprehensive-guide-to-formatting-a-64gb-usb-drive-to-fat32-af5fa92c9c4b', 'title': 'A Comprehensive Guide to Formatting a 64GB USB Drive to FAT32 | by Nihal Degaon | Medium', 'description': 'Formatting a USB drive to FAT32 is a common requirement for compatibility with various devices, such as cameras, gaming consoles, or legacy systems. However, Windows’ built-in tools limit FAT32…', 'language': 'en'}, page_content='Since your output indicates that /dev/sdb1 is not mounted, you can skip this step. If it were mounted, you would use:sudo umount /dev/sdb1Run the Formatting Command:sudo mkfs.fat -F 32 /dev/sdb1Verify the Format:lsblk -fMount the USB (Optional)sudo mkdir -p /mnt/usbsudo mount /dev/sdb1 /mnt/usbAlternatively, you can use a graphical tool like GParted if you prefer a GUI:sudo apt install gparted -yRun it with:sudo gpartedDealing with Corporate USB RestrictionsIn some corporate environments, USB mass storage may be disabled by IT policiesAsk IT for Temporary Access: If USB access is essential, consider requesting temporary permission or an exception from your IT department.ConclusionFormatting a 64GB USB drive to FAT32 can be straightforward — especially on Linux, where commands like'),\n",
              " Document(id='266a34d7-2b18-4d2f-9e05-5db26193a77b', metadata={'source': 'https://medium.com/@nihald2000/a-comprehensive-guide-to-formatting-a-64gb-usb-drive-to-fat32-af5fa92c9c4b', 'title': 'A Comprehensive Guide to Formatting a 64GB USB Drive to FAT32 | by Nihal Degaon | Medium', 'description': 'Formatting a USB drive to FAT32 is a common requirement for compatibility with various devices, such as cameras, gaming consoles, or legacy systems. However, Windows’ built-in tools limit FAT32…', 'language': 'en'}, page_content='as Administrator.Execute the following command (replacing X: with your USB drive letter):format /FS:FAT32 X:Be prepared — this method can take over an hour on a 64GB drive due to the intensive nature of the formatting process.Formatting on Linux (Ubuntu)Linux offers robust command-line tools that make formatting large drives quick and straightforward. Here’s how you can do it via a remote session (for example, through MobaXterm):Step 1: Verify USB DetectionCheck with lsusb:lsusbCheck with lsblk: Next, run:lsblkStep 2: Format the USB Drive to FAT32If the drive is detected (as in the example above), you can proceed:Unmount the Partition (if mounted): Since your output indicates that /dev/sdb1 is not mounted, you can skip this step. If it were mounted, you would use:sudo umount /dev/sdb1Run'),\n",
              " Document(id='afb1e19d-6310-4860-b950-31dd181bf2ef', metadata={'source': 'https://medium.com/@nihald2000/a-comprehensive-guide-to-formatting-a-64gb-usb-drive-to-fat32-af5fa92c9c4b', 'title': 'A Comprehensive Guide to Formatting a 64GB USB Drive to FAT32 | by Nihal Degaon | Medium', 'description': 'Formatting a USB drive to FAT32 is a common requirement for compatibility with various devices, such as cameras, gaming consoles, or legacy systems. However, Windows’ built-in tools limit FAT32…', 'language': 'en'}, page_content='64GB USB drive to FAT32 on both Windows and Linux (Ubuntu), troubleshoot detection issues, and discuss workarounds when USB storage is blocked by IT policies.Understanding the FAT32 LimitationFAT32 is widely supported and useful when you need maximum compatibility. However, Windows’ native tools (such as Disk Management or DiskPart) won’t let you format drives larger than 32GB to FAT32 — even though the FAT32 file system itself supports much larger volumes (up to 2TB). This limitation means you must use alternative methods if you have a 64GB drive.Formatting on WindowsMethod 1: Using Third-Party Tools (Recommended)Third-party utilities bypass Windows’ 32GB restriction and offer a quick solution:Rufus:Download Rufus from rufus.ie.Insert your USB drive.Open Rufus and select your USB under'),\n",
              " Document(id='c80099bf-a453-481c-aa21-b4a521e019bf', metadata={'source': 'https://medium.com/@nihald2000/a-comprehensive-guide-to-formatting-a-64gb-usb-drive-to-fat32-af5fa92c9c4b', 'title': 'A Comprehensive Guide to Formatting a 64GB USB Drive to FAT32 | by Nihal Degaon | Medium', 'description': 'Formatting a USB drive to FAT32 is a common requirement for compatibility with various devices, such as cameras, gaming consoles, or legacy systems. However, Windows’ built-in tools limit FAT32…', 'language': 'en'}, page_content='A Comprehensive Guide to Formatting a 64GB USB Drive to FAT32 | by Nihal Degaon | MediumSitemapOpen in appSign upSign inMedium LogoWriteSign upSign inA Comprehensive Guide to Formatting a 64GB USB Drive to FAT32Nihal DegaonFollow3 min read·Mar 19, 2025--ListenShareFormatted to FAT32Formatting a USB drive to FAT32 is a common requirement for compatibility with various devices, such as cameras, gaming consoles, or legacy systems. However, Windows’ built-in tools limit FAT32 formatting to drives of 32GB or less, and corporate environments may impose additional restrictions on USB access. In this article, we’ll cover how to format a 64GB USB drive to FAT32 on both Windows and Linux (Ubuntu), troubleshoot detection issues, and discuss workarounds when USB storage is blocked by IT')]"
            ]
          },
          "metadata": {},
          "execution_count": 42
        }
      ]
    },
    {
      "cell_type": "code",
      "source": [],
      "metadata": {
        "id": "LfUS3FEMc_-S"
      },
      "execution_count": null,
      "outputs": []
    }
  ]
}