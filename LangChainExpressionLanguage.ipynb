{
  "nbformat": 4,
  "nbformat_minor": 0,
  "metadata": {
    "colab": {
      "provenance": [],
      "authorship_tag": "ABX9TyOsac22SEnobSKUOJAWZuft",
      "include_colab_link": true
    },
    "kernelspec": {
      "name": "python3",
      "display_name": "Python 3"
    },
    "language_info": {
      "name": "python"
    }
  },
  "cells": [
    {
      "cell_type": "markdown",
      "metadata": {
        "id": "view-in-github",
        "colab_type": "text"
      },
      "source": [
        "<a href=\"https://colab.research.google.com/github/nihald2000/Edgeai/blob/main/LangChainExpressionLanguage.ipynb\" target=\"_parent\"><img src=\"https://colab.research.google.com/assets/colab-badge.svg\" alt=\"Open In Colab\"/></a>"
      ]
    },
    {
      "cell_type": "code",
      "execution_count": 15,
      "metadata": {
        "id": "pYa4QfsKXLdV"
      },
      "outputs": [],
      "source": [
        "!pip install -q \\\n",
        "    langchain \\\n",
        "    faiss-cpu \\\n",
        "    langchain-community \\\n",
        "    langchain-google-genai \\\n",
        "    bs4 \\\n",
        "    langchain-text-splitters \\\n",
        "    langchain_groq \\\n",
        "    google-ai-generativelanguage==0.6.15"
      ]
    },
    {
      "cell_type": "code",
      "source": [
        "### GOOGLE_API_KEY and Open Source models--Llama3,Gemma2,mistral--Groq\n",
        "\n",
        "import os\n",
        "from dotenv import load_dotenv\n",
        "load_dotenv()\n",
        "\n",
        "import google\n",
        "from google.colab import userdata\n",
        "GROQ_API_KEY = userdata.get('GROQ_API_KEY')\n",
        "if GROQ_API_KEY:\n",
        "    os.environ[\"GROQ_API_KEY\"] = GROQ_API_KEY\n",
        "    print(\" GROQ_API_KEY loaded.\")\n",
        "else:\n",
        "    print(\"GROQ_API_KEY not found in Colab Secrets. LangSmith tracing will not work.\")\n",
        "os.environ[\"LANGCHAIN_TRACING_V2\"] = \"true\"\n",
        "GOOGLE_API_KEY = userdata.get('GOOGLE_API_KEY')\n",
        "if GOOGLE_API_KEY:\n",
        "    os.environ[\"GOOGLE_API_KEY\"] = GOOGLE_API_KEY\n",
        "    print(\" GOOGLE_API_KEY API Key loaded.\")\n",
        "else:\n",
        "    print(\"GOOGLE_API_KEY not found in Colab Secrets. LangSmith tracing will not work.\")\n",
        "\n",
        "LANGCHAIN_API_KEY = userdata.get('LANGCHAIN_API_KEY')\n",
        "if LANGCHAIN_API_KEY:\n",
        "    os.environ[\"LANGCHAIN_API_KEY\"] = LANGCHAIN_API_KEY\n",
        "    print(\" LangSmith API Key loaded.\")\n",
        "else:\n",
        "    print(\"LANGCHAIN_API_KEY not found in Colab Secrets. LangSmith tracing will not work.\")\n"
      ],
      "metadata": {
        "colab": {
          "base_uri": "https://localhost:8080/"
        },
        "id": "T24ERW1_dwUJ",
        "outputId": "cb3af1ef-21f4-4704-9bfd-b1998be9b822"
      },
      "execution_count": 21,
      "outputs": [
        {
          "output_type": "stream",
          "name": "stdout",
          "text": [
            " GROQ_API_KEY loaded.\n",
            " GOOGLE_API_KEY API Key loaded.\n",
            " LangSmith API Key loaded.\n"
          ]
        }
      ]
    },
    {
      "cell_type": "code",
      "source": [
        "from langchain_groq import ChatGroq\n",
        "model=ChatGroq(model=\"Gemma2-9b-It\",groq_api_key=GROQ_API_KEY)\n",
        "model"
      ],
      "metadata": {
        "colab": {
          "base_uri": "https://localhost:8080/"
        },
        "id": "nQUjTv6JdwRj",
        "outputId": "0a2b78e0-6a8a-420a-d662-2b36868a0abf"
      },
      "execution_count": 22,
      "outputs": [
        {
          "output_type": "execute_result",
          "data": {
            "text/plain": [
              "ChatGroq(client=<groq.resources.chat.completions.Completions object at 0x7fc847a3ba50>, async_client=<groq.resources.chat.completions.AsyncCompletions object at 0x7fc847a39150>, model_name='Gemma2-9b-It', model_kwargs={}, groq_api_key=SecretStr('**********'))"
            ]
          },
          "metadata": {},
          "execution_count": 22
        }
      ]
    },
    {
      "cell_type": "code",
      "source": [
        "from langchain_core.messages import HumanMessage,SystemMessage\n",
        "\n",
        "messages=[\n",
        "    SystemMessage(content=\"Translate the following from English to French\"),\n",
        "    HumanMessage(content=\"Hello How are you?\")\n",
        "]\n",
        "\n",
        "result=model.invoke(messages)\n",
        "result"
      ],
      "metadata": {
        "colab": {
          "base_uri": "https://localhost:8080/"
        },
        "id": "2amyxDmndwPd",
        "outputId": "b5170c37-5708-4262-8924-da10e18b6cee"
      },
      "execution_count": 23,
      "outputs": [
        {
          "output_type": "execute_result",
          "data": {
            "text/plain": [
              "AIMessage(content='Here are a couple of ways to say \"Hello, How are you?\" in French:\\n\\n**Formal:**\\n\\n* **Bonjour, comment allez-vous ?**  (pronounced: bohn-zhoor, kom-mahn ah-lay-voo)\\n\\n**Informal:**\\n\\n* **Salut, comment vas-tu ?** (pronounced: sa-loo, kom-mahn vah-too)\\n\\n\\nLet me know if you\\'d like to know how to say something else in French!\\n', additional_kwargs={}, response_metadata={'token_usage': {'completion_tokens': 106, 'prompt_tokens': 21, 'total_tokens': 127, 'completion_time': 0.192727273, 'prompt_time': 0.002130147, 'queue_time': 0.107741052, 'total_time': 0.19485742}, 'model_name': 'Gemma2-9b-It', 'system_fingerprint': 'fp_10c08bf97d', 'finish_reason': 'stop', 'logprobs': None}, id='run--c020f57f-4528-4118-8c47-7d9347768110-0', usage_metadata={'input_tokens': 21, 'output_tokens': 106, 'total_tokens': 127})"
            ]
          },
          "metadata": {},
          "execution_count": 23
        }
      ]
    },
    {
      "cell_type": "code",
      "source": [
        "from langchain_core.output_parsers import StrOutputParser\n",
        "parser=StrOutputParser()\n",
        "parser.invoke(result)"
      ],
      "metadata": {
        "colab": {
          "base_uri": "https://localhost:8080/",
          "height": 70
        },
        "id": "QRv6-AKldwNL",
        "outputId": "a07e6889-256a-4c94-f3eb-ac970fe73e4d"
      },
      "execution_count": 24,
      "outputs": [
        {
          "output_type": "execute_result",
          "data": {
            "text/plain": [
              "'Here are a couple of ways to say \"Hello, How are you?\" in French:\\n\\n**Formal:**\\n\\n* **Bonjour, comment allez-vous ?**  (pronounced: bohn-zhoor, kom-mahn ah-lay-voo)\\n\\n**Informal:**\\n\\n* **Salut, comment vas-tu ?** (pronounced: sa-loo, kom-mahn vah-too)\\n\\n\\nLet me know if you\\'d like to know how to say something else in French!\\n'"
            ],
            "application/vnd.google.colaboratory.intrinsic+json": {
              "type": "string"
            }
          },
          "metadata": {},
          "execution_count": 24
        }
      ]
    },
    {
      "cell_type": "code",
      "source": [
        "### Using LCEL- chain the components\n",
        "chain=model|parser\n",
        "chain.invoke(messages)"
      ],
      "metadata": {
        "colab": {
          "base_uri": "https://localhost:8080/",
          "height": 35
        },
        "id": "teDqe2qAdwKL",
        "outputId": "a627d757-623b-4a13-e4ba-a94b6df58efc"
      },
      "execution_count": 25,
      "outputs": [
        {
          "output_type": "execute_result",
          "data": {
            "text/plain": [
              "'Bonjour, comment allez-vous ? \\n'"
            ],
            "application/vnd.google.colaboratory.intrinsic+json": {
              "type": "string"
            }
          },
          "metadata": {},
          "execution_count": 25
        }
      ]
    },
    {
      "cell_type": "code",
      "source": [
        "### Prompt Templates\n",
        "from langchain_core.prompts import ChatPromptTemplate\n",
        "\n",
        "generic_template=\"Trnaslate the following into {language}:\"\n",
        "\n",
        "prompt=ChatPromptTemplate.from_messages(\n",
        "    [(\"system\",generic_template),(\"user\",\"{text}\")]\n",
        ")\n",
        "\n"
      ],
      "metadata": {
        "id": "YGfE3wSidwIi"
      },
      "execution_count": 26,
      "outputs": []
    },
    {
      "cell_type": "code",
      "source": [
        "result=prompt.invoke({\"language\":\"French\",\"text\":\"Hello\"})\n",
        "result.to_messages()"
      ],
      "metadata": {
        "colab": {
          "base_uri": "https://localhost:8080/"
        },
        "id": "1tfkXYNHfpdd",
        "outputId": "5930ec77-3d2f-4a88-a0db-5bb52f53f040"
      },
      "execution_count": 27,
      "outputs": [
        {
          "output_type": "execute_result",
          "data": {
            "text/plain": [
              "[SystemMessage(content='Trnaslate the following into French:', additional_kwargs={}, response_metadata={}),\n",
              " HumanMessage(content='Hello', additional_kwargs={}, response_metadata={})]"
            ]
          },
          "metadata": {},
          "execution_count": 27
        }
      ]
    },
    {
      "cell_type": "code",
      "source": [
        "##Chaining together components with LCEL\n",
        "chain=prompt|model|parser\n",
        "chain.invoke({\"language\":\"French\",\"text\":\"Hello\"})"
      ],
      "metadata": {
        "colab": {
          "base_uri": "https://localhost:8080/",
          "height": 35
        },
        "id": "zdoP-rfnfpZv",
        "outputId": "46f698a4-8541-4776-85b3-c6bb5cab9acf"
      },
      "execution_count": 28,
      "outputs": [
        {
          "output_type": "execute_result",
          "data": {
            "text/plain": [
              "'Bonjour \\n'"
            ],
            "application/vnd.google.colaboratory.intrinsic+json": {
              "type": "string"
            }
          },
          "metadata": {},
          "execution_count": 28
        }
      ]
    },
    {
      "cell_type": "code",
      "source": [],
      "metadata": {
        "id": "OUAHVMByfpXd"
      },
      "execution_count": 28,
      "outputs": []
    },
    {
      "cell_type": "code",
      "source": [],
      "metadata": {
        "id": "CVfrZfL-dv36"
      },
      "execution_count": 28,
      "outputs": []
    }
  ]
}